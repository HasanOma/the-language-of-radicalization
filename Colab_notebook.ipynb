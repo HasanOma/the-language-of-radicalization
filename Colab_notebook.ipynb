{
  "cells": [
    {
      "cell_type": "code",
      "execution_count": 2,
      "metadata": {
        "colab": {
          "base_uri": "https://localhost:8080/"
        },
        "id": "Kq_HjaUvrFoe",
        "outputId": "b15c4a1e-9221-486d-fddf-da4e7bb478b8"
      },
      "outputs": [
        {
          "name": "stdout",
          "output_type": "stream",
          "text": [
          ]
        }
      ],
      "source": [
        "# CELL 1: Package Installations\n",
        "!pip install --upgrade pip -q\n",
        "!pip install --upgrade torch torchvision torchaudio -q\n",
        "!pip install --upgrade transformers accelerate peft bitsandbytes safetensors -q\n",
        "!pip install pandas pyarrow scikit-learn seaborn tqdm rich pingouin shap matplotlib\n",
        "\n",
        "# Confirm Versions\n",
        "import torch\n",
        "import transformers\n",
        "import accelerate\n",
        "import peft\n",
        "import safetensors\n",
        "\n",
        "print(f\"Torch version: {torch.__version__}\")\n",
        "print(f\"Transformers version: {transformers.__version__}\")\n",
        "print(f\"PEFT version: {peft.__version__}\")\n",
        "print(f\"Accelerate version: {accelerate.__version__}\")\n",
        "print(f\"Safetensors version: {safetensors.__version__}\")\n",
        "print(f\"Torch CUDA available: {torch.cuda.is_available()}\")\n",
        "if torch.cuda.is_available():\n",
        "    print(f\"CUDA version for PyTorch: {torch.version.cuda}\")\n",
        "\n",
        "print(\"-\" * 70)\n",
        "print(\"Installation cell complete.\")\n",
        "print(\"-\" * 70)"
      ]
    },
    {
      "cell_type": "code",
      "execution_count": 3,
      "metadata": {
        "colab": {
          "base_uri": "https://localhost:8080/"
        },
        "id": "1p0yLwyVuRHv",
        "outputId": "4acf50a3-ce79-49b2-edb1-a60c96de18b6"
      },
      "outputs": [
        {
          "name": "stdout",
          "output_type": "stream",
          "text": [
          ]
        }
      ],
      "source": [
        "# ╔════════════════════════════════════════════════════════════════════╗\n",
        "# ║  Mount Google Drive                                                ║\n",
        "# ╚════════════════════════════════════════════════════════════════════╝\n",
        "from google.colab import drive\n",
        "drive.mount('/content/drive')\n",
        "\n",
        "# Put the absolute path to your project root on Drive:\n",
        "PROJ = \"/content/drive/MyDrive/Master\"\n",
        "%cd $PROJ"
      ]
    },
    {
      "cell_type": "code",
      "execution_count": 4,
      "metadata": {
        "colab": {
          "base_uri": "https://localhost:8080/"
        },
        "id": "eC9ndf8CrRyH",
        "outputId": "26a56971-d517-4018-8a1b-b2490e8968ef"
      },
      "outputs": [
        {
          "name": "stdout",
          "output_type": "stream",
          "text": [
          ]
        }
      ],
      "source": [
        "# ╔════════════════════════════════════════════════════════════════════╗\n",
        "# ║  Environment sanity-check                                          ║\n",
        "# ╚════════════════════════════════════════════════════════════════════╝\n",
        "import torch, transformers, pandas as pd, os, platform, sys, json, math\n",
        "print(\"GPU:\", torch.cuda.get_device_name(0))\n",
        "print(\"torch:\", torch.__version__,  \" transformers:\", transformers.__version__)\n",
        "print(\"rows in features file:\", len(pd.read_feather(\"data/02_features.feather\")))"
      ]
    },
    {
      "cell_type": "code",
      "execution_count": null,
      "metadata": {
        "id": "jXzOe3EHEa8j"
      },
      "outputs": [],
      "source": [
        "!python rq1_emotion_analysis_5k.py"
      ]
    },
    {
      "cell_type": "code",
      "execution_count": null,
      "metadata": {
        "id": "k485NgpIHNhY"
      },
      "outputs": [],
      "source": [
        "!python rq1_emotion_analysis_10k.py"
      ]
    },
    {
      "cell_type": "code",
      "execution_count": null,
      "metadata": {
        "id": "zcnfZAGXHNwR"
      },
      "outputs": [],
      "source": [
        "!python rq1_emotion_analysis_40k.py"
      ]
    },
    {
      "cell_type": "code",
      "execution_count": null,
      "metadata": {
        "id": "bqwe6tjNHN9b"
      },
      "outputs": [],
      "source": [
        "!python rq1_emotion_analysis_80k.py"
      ]
    },
    {
      "cell_type": "code",
      "execution_count": null,
      "metadata": {
        "id": "Rj-fYtYWEJ_Z"
      },
      "outputs": [],
      "source": [
        "!python rq2_similarity_stats_5k.py"
      ]
    },
    {
      "cell_type": "code",
      "execution_count": null,
      "metadata": {
        "id": "fMI93DB1HR9m"
      },
      "outputs": [],
      "source": [
        "!python rq2_similarity_stats_10k.py"
      ]
    },
    {
      "cell_type": "code",
      "execution_count": null,
      "metadata": {
        "id": "pOjVWuJAHSSg"
      },
      "outputs": [],
      "source": [
        "!python rq2_similarity_stats_40k.py"
      ]
    },
    {
      "cell_type": "code",
      "execution_count": null,
      "metadata": {
        "id": "g7zyRo5JHSmq"
      },
      "outputs": [],
      "source": [
        "!python rq2_similarity_stats_80k.py"
      ]
    },
    {
      "cell_type": "code",
      "execution_count": null,
      "metadata": {
        "id": "Ovo_bV_Jq19I"
      },
      "outputs": [],
      "source": [
        "# only SVM-TFIDF + Random-Forest 5k\n",
        "!python rq3_classification_met.py --data \"/content/drive/MyDrive/Master/data/pysentimentio/revised-preprocess/5k/02_features.feather\" \\\n",
        "--model none --no-shap --run-name pysentimentio_5k_classic_only5k\n"
      ]
    },
    {
      "cell_type": "code",
      "execution_count": null,
      "metadata": {
        "id": "W9guLWhnwPMD"
      },
      "outputs": [],
      "source": [
        "## DistilBERT 5k\n",
        "!python rq3_classification_met.py \\\n",
        "  --data \"/content/drive/MyDrive/Master/data/pysentimentio/revised-preprocess/5k/02_features.feather\" \\\n",
        "  --model distilbert-base-uncased \\\n",
        "  --epochs 12 --batch 64  --grad-accum 1 \\\n",
        "  --no-baselines \\\n",
        "  --run-name 5k_e12_b64_distil"
      ]
    },
    {
      "cell_type": "code",
      "execution_count": null,
      "metadata": {
        "id": "qkTJ_FjFwoUd"
      },
      "outputs": [],
      "source": [
        "## DeBERTa-v3-base 5k\n",
        "!python rq3_classification_met.py \\\n",
        "  --data \"/content/drive/MyDrive/Master/data/pysentimentio/revised-preprocess/5k/02_features.feather\" \\\n",
        "  --model microsoft/deberta-v3-base \\\n",
        "  --epochs 10 --batch 16 --grad-accum 2 \\\n",
        "  --no-baselines \\\n",
        "  --run-name 5k_e10_b16_ga2_deberta"
      ]
    },
    {
      "cell_type": "code",
      "execution_count": null,
      "metadata": {
        "id": "LtUd7i2vsdQi"
      },
      "outputs": [],
      "source": [
        "# only SVM-TFIDF + Random-Forest 10k\n",
        "!python rq3_classification_met.py --data \"/content/drive/MyDrive/Master/data/pysentimentio/revised-preprocess/10k/02_features.feather\" \\\n",
        "--model none --no-shap --run-name pysentimentio_10k_classic_only10k\n"
      ]
    },
    {
      "cell_type": "code",
      "execution_count": null,
      "metadata": {
        "id": "o9TEZh7Z0FWJ"
      },
      "outputs": [],
      "source": [
        "## DistilBERT 10k\n",
        "!python rq3_classification_met.py \\\n",
        "  --data \"/content/drive/MyDrive/Master/data/pysentimentio/revised-preprocess/10k/02_features.feather\" \\\n",
        "  --model distilbert-base-uncased \\\n",
        "  --epochs 6 --batch 64  --grad-accum 1 \\\n",
        "  --no-baselines \\\n",
        "  --run-name 10k_e6_b64_distil"
      ]
    },
    {
      "cell_type": "code",
      "execution_count": null,
      "metadata": {
        "id": "MKlPIbTM0N_0"
      },
      "outputs": [],
      "source": [
        "# DeBERTa-v3-base 10k\n",
        "!python rq3_classification_met.py \\\n",
        "  --data \"/content/drive/MyDrive/Master/data/pysentimentio/revised-preprocess/10k/02_features.feather\" \\\n",
        "  --model microsoft/deberta-v3-base \\\n",
        "  --epochs 8 --batch 16 --grad-accum 2 \\\n",
        "  --no-baselines \\\n",
        "  --run-name 10k_e8_b16_ga2_deberta"
      ]
    },
    {
      "cell_type": "code",
      "execution_count": null,
      "metadata": {
        "id": "RECO7MSaz63Z"
      },
      "outputs": [],
      "source": [
        "# only SVM-TFIDF + Random-Forest 40k\n",
        "!python rq3_classification.py --data \"/content/drive/MyDrive/Master/data/pysentimentio/revised-preprocess/40k/02_features.feather\" \\\n",
        "--model none --no-shap --run-name pysentimentio_40k_classic_only40k\n"
      ]
    },
    {
      "cell_type": "code",
      "execution_count": null,
      "metadata": {
        "id": "sw0qmUsc0FnL"
      },
      "outputs": [],
      "source": [
        "# DistilBERT 40k\n",
        "!python rq3_classification.py \\\n",
        "  --data \"/content/drive/MyDrive/Master/data/pysentimentio/revised-preprocess/40k/02_features.feather\" \\\n",
        "  --model distilbert-base-uncased \\\n",
        "  --epochs 8 --batch 64  --grad-accum 1 \\\n",
        "  --no-baselines \\\n",
        "  --run-name 40k_e8_b64_distil"
      ]
    },
    {
      "cell_type": "code",
      "execution_count": null,
      "metadata": {
        "id": "pfoMIuic0ONp"
      },
      "outputs": [],
      "source": [
        "# DeBERTa-v3-base 40k\n",
        "!python rq3_classification.py \\\n",
        "  --data \"/content/drive/MyDrive/Master/data/pysentimentio/revised-preprocess/40k/02_features.feather\" \\\n",
        "  --model microsoft/deberta-v3-base \\\n",
        "  --epochs 8 --batch 16 --grad-accum 2 \\\n",
        "  --no-baselines \\\n",
        "  --run-name 40k_e8_b16_ga2_deberta"
      ]
    },
    {
      "cell_type": "code",
      "execution_count": null,
      "metadata": {
        "id": "ls06y20O0GCo"
      },
      "outputs": [],
      "source": [
        "# DistilBERT 80k\n",
        "!python rq3_classification.py \\\n",
        "  --data \"/content/drive/MyDrive/Master/data/pysentimentio/revised-preprocess/80k/02_features.feather\" \\\n",
        "  --model distilbert-base-uncased \\\n",
        "  --epochs 8 --batch 64  --grad-accum 1 \\\n",
        "  --no-baselines \\\n",
        "  --run-name 80k_e8_b64_distil"
      ]
    },
    {
      "cell_type": "code",
      "execution_count": null,
      "metadata": {
        "id": "kieaWf4x0O1u"
      },
      "outputs": [],
      "source": [
        "# DeBERTa-v3-base 80k\n",
        "!python rq3_classification.py \\\n",
        "  --data \"/content/drive/MyDrive/Master/data/pysentimentio/revised-preprocess/80k/02_features.feather\" \\\n",
        "  --model microsoft/deberta-v3-base \\\n",
        "  --epochs 8 --batch 32 --grad-accum 2 \\\n",
        "  --no-baselines \\\n",
        "  --run-name 80k_e8_b16_ga2_deberta"
      ]
    },
    {
      "cell_type": "code",
      "execution_count": null,
      "metadata": {
        "id": "UU3SiU2az7qi"
      },
      "outputs": [],
      "source": [
        "# only SVM-TFIDF + Random-Forest 80k\n",
        "!python rq3_classification.py --data \"/content/drive/MyDrive/Master/data/pysentimentio/revised-preprocess/80k/02_features.feather\" \\\n",
        "--model none --no-shap --run-name pysentimentio_80k_classic_only80k"
      ]
    }
  ],
  "metadata": {
    "accelerator": "GPU",
    "colab": {
      "gpuType": "A100",
      "machine_shape": "hm",
      "provenance": []
    },
    "kernelspec": {
      "display_name": "Python 3",
      "name": "python3"
    }
  },
  "nbformat": 4,
  "nbformat_minor": 0
}
