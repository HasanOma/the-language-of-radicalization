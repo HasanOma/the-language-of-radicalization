{
  "cells": [
    {
      "cell_type": "code",
      "execution_count": 2,
      "metadata": {
        "colab": {
          "base_uri": "https://localhost:8080/"
        },
        "id": "Kq_HjaUvrFoe",
        "outputId": "b15c4a1e-9221-486d-fddf-da4e7bb478b8"
      },
      "outputs": [
        {
          "name": "stdout",
          "output_type": "stream",
          "text": [
            "\u001b[2K   \u001b[90m━━━━━━━━━━━━━━━━━━━━━━━━━━━━━━━━━━━━━━━━\u001b[0m \u001b[32m1.8/1.8 MB\u001b[0m \u001b[31m18.9 MB/s\u001b[0m eta \u001b[36m0:00:00\u001b[0m\n",
            "\u001b[2K   \u001b[90m━━━━━━━━━━━━━━━━━━━━━━━━━━━━━━━━━━━━━━━━\u001b[0m \u001b[32m821.2/821.2 MB\u001b[0m \u001b[31m36.3 MB/s\u001b[0m eta \u001b[36m0:00:00\u001b[0m\n",
            "\u001b[2K   \u001b[90m━━━━━━━━━━━━━━━━━━━━━━━━━━━━━━━━━━━━━━━━\u001b[0m \u001b[32m393.1/393.1 MB\u001b[0m \u001b[31m58.7 MB/s\u001b[0m eta \u001b[36m0:00:00\u001b[0m\n",
            "\u001b[2K   \u001b[90m━━━━━━━━━━━━━━━━━━━━━━━━━━━━━━━━━━━━━━━━\u001b[0m \u001b[32m8.9/8.9 MB\u001b[0m \u001b[31m160.3 MB/s\u001b[0m eta \u001b[36m0:00:00\u001b[0m\n",
            "\u001b[2K   \u001b[90m━━━━━━━━━━━━━━━━━━━━━━━━━━━━━━━━━━━━━━━━\u001b[0m \u001b[32m23.7/23.7 MB\u001b[0m \u001b[31m193.1 MB/s\u001b[0m eta \u001b[36m0:00:00\u001b[0m\n",
            "\u001b[2K   \u001b[90m━━━━━━━━━━━━━━━━━━━━━━━━━━━━━━━━━━━━━━━━\u001b[0m \u001b[32m897.7/897.7 kB\u001b[0m \u001b[31m52.2 MB/s\u001b[0m eta \u001b[36m0:00:00\u001b[0m\n",
            "\u001b[2K   \u001b[90m━━━━━━━━━━━━━━━━━━━━━━━━━━━━━━━━━━━━━━━━\u001b[0m \u001b[32m571.0/571.0 MB\u001b[0m \u001b[31m44.4 MB/s\u001b[0m eta \u001b[36m0:00:00\u001b[0m\n",
            "\u001b[2K   \u001b[90m━━━━━━━━━━━━━━━━━━━━━━━━━━━━━━━━━━━━━━━\u001b[0m \u001b[32m200.2/200.2 MB\u001b[0m \u001b[31m150.4 MB/s\u001b[0m eta \u001b[36m0:00:00\u001b[0m\n",
            "\u001b[2K   \u001b[90m━━━━━━━━━━━━━━━━━━━━━━━━━━━━━━━━━━━━━━━━\u001b[0m \u001b[32m1.1/1.1 MB\u001b[0m \u001b[31m65.3 MB/s\u001b[0m eta \u001b[36m0:00:00\u001b[0m\n",
            "\u001b[2K   \u001b[90m━━━━━━━━━━━━━━━━━━━━━━━━━━━━━━━━━━━━━━━━\u001b[0m \u001b[32m56.3/56.3 MB\u001b[0m \u001b[31m162.1 MB/s\u001b[0m eta \u001b[36m0:00:00\u001b[0m\n",
            "\u001b[2K   \u001b[90m━━━━━━━━━━━━━━━━━━━━━━━━━━━━━━━━━━━━━━━\u001b[0m \u001b[32m158.2/158.2 MB\u001b[0m \u001b[31m150.0 MB/s\u001b[0m eta \u001b[36m0:00:00\u001b[0m\n",
            "\u001b[2K   \u001b[90m━━━━━━━━━━━━━━━━━━━━━━━━━━━━━━━━━━━━━━━━\u001b[0m \u001b[32m216.6/216.6 MB\u001b[0m \u001b[31m57.8 MB/s\u001b[0m eta \u001b[36m0:00:00\u001b[0m\n",
            "\u001b[2K   \u001b[90m━━━━━━━━━━━━━━━━━━━━━━━━━━━━━━━━━━━━━━━\u001b[0m \u001b[32m156.8/156.8 MB\u001b[0m \u001b[31m148.3 MB/s\u001b[0m eta \u001b[36m0:00:00\u001b[0m\n",
            "\u001b[2K   \u001b[90m━━━━━━━━━━━━━━━━━━━━━━━━━━━━━━━━━━━━━━━\u001b[0m \u001b[32m201.3/201.3 MB\u001b[0m \u001b[31m146.9 MB/s\u001b[0m eta \u001b[36m0:00:00\u001b[0m\n",
            "\u001b[2K   \u001b[90m━━━━━━━━━━━━━━━━━━━━━━━━━━━━━━━━━━━━━━━━\u001b[0m \u001b[32m19.7/19.7 MB\u001b[0m \u001b[31m187.2 MB/s\u001b[0m eta \u001b[36m0:00:00\u001b[0m\n",
            "\u001b[2K   \u001b[90m━━━━━━━━━━━━━━━━━━━━━━━━━━━━━━━━━━━━━━━━\u001b[0m \u001b[32m155.7/155.7 MB\u001b[0m \u001b[31m74.4 MB/s\u001b[0m eta \u001b[36m0:00:00\u001b[0m\n",
            "\u001b[2K   \u001b[90m━━━━━━━━━━━━━━━━━━━━━━━━━━━━━━━━━━━━━━━━\u001b[0m \u001b[32m7.5/7.5 MB\u001b[0m \u001b[31m142.9 MB/s\u001b[0m eta \u001b[36m0:00:00\u001b[0m\n",
            "\u001b[2K   \u001b[90m━━━━━━━━━━━━━━━━━━━━━━━━━━━━━━━━━━━━━━━━\u001b[0m \u001b[32m3.5/3.5 MB\u001b[0m \u001b[31m118.2 MB/s\u001b[0m eta \u001b[36m0:00:00\u001b[0m\n",
            "\u001b[2K   \u001b[90m━━━━━━━━━━━━━━━━━━━━━━━━━━━━━━━━━━━━━━━━\u001b[0m \u001b[32m6.3/6.3 MB\u001b[0m \u001b[31m157.7 MB/s\u001b[0m eta \u001b[36m0:00:00\u001b[0m\n",
            "\u001b[2K   \u001b[90m━━━━━━━━━━━━━━━━━━━━━━━━━━━━━━━━━━━━━━━━\u001b[0m \u001b[32m19/19\u001b[0m [torchaudio]\n",
            "\u001b[1A\u001b[2K\u001b[31mERROR: pip's dependency resolver does not currently take into account all the packages that are installed. This behaviour is the source of the following dependency conflicts.\n",
            "fastai 2.7.19 requires torch<2.7,>=1.10, but you have torch 2.7.1 which is incompatible.\u001b[0m\u001b[31m\n",
            "\u001b[2K   \u001b[90m━━━━━━━━━━━━━━━━━━━━━━━━━━━━━━━━━━━━━━━━\u001b[0m \u001b[32m67.0/67.0 MB\u001b[0m \u001b[31m140.7 MB/s\u001b[0m eta \u001b[36m0:00:00\u001b[0m\n",
            "\u001b[?25hRequirement already satisfied: pandas in /usr/local/lib/python3.11/dist-packages (2.2.2)\n",
            "Requirement already satisfied: pyarrow in /usr/local/lib/python3.11/dist-packages (18.1.0)\n",
            "Requirement already satisfied: scikit-learn in /usr/local/lib/python3.11/dist-packages (1.6.1)\n",
            "Requirement already satisfied: seaborn in /usr/local/lib/python3.11/dist-packages (0.13.2)\n",
            "Requirement already satisfied: tqdm in /usr/local/lib/python3.11/dist-packages (4.67.1)\n",
            "Requirement already satisfied: rich in /usr/local/lib/python3.11/dist-packages (13.9.4)\n",
            "Collecting pingouin\n",
            "  Downloading pingouin-0.5.5-py3-none-any.whl.metadata (19 kB)\n",
            "Requirement already satisfied: shap in /usr/local/lib/python3.11/dist-packages (0.47.2)\n",
            "Requirement already satisfied: matplotlib in /usr/local/lib/python3.11/dist-packages (3.10.0)\n",
            "Requirement already satisfied: numpy>=1.23.2 in /usr/local/lib/python3.11/dist-packages (from pandas) (2.0.2)\n",
            "Requirement already satisfied: python-dateutil>=2.8.2 in /usr/local/lib/python3.11/dist-packages (from pandas) (2.9.0.post0)\n",
            "Requirement already satisfied: pytz>=2020.1 in /usr/local/lib/python3.11/dist-packages (from pandas) (2025.2)\n",
            "Requirement already satisfied: tzdata>=2022.7 in /usr/local/lib/python3.11/dist-packages (from pandas) (2025.2)\n",
            "Requirement already satisfied: scipy>=1.6.0 in /usr/local/lib/python3.11/dist-packages (from scikit-learn) (1.15.3)\n",
            "Requirement already satisfied: joblib>=1.2.0 in /usr/local/lib/python3.11/dist-packages (from scikit-learn) (1.5.1)\n",
            "Requirement already satisfied: threadpoolctl>=3.1.0 in /usr/local/lib/python3.11/dist-packages (from scikit-learn) (3.6.0)\n",
            "Requirement already satisfied: markdown-it-py>=2.2.0 in /usr/local/lib/python3.11/dist-packages (from rich) (3.0.0)\n",
            "Requirement already satisfied: pygments<3.0.0,>=2.13.0 in /usr/local/lib/python3.11/dist-packages (from rich) (2.19.1)\n",
            "Collecting pandas-flavor (from pingouin)\n",
            "  Downloading pandas_flavor-0.7.0-py3-none-any.whl.metadata (6.7 kB)\n",
            "Requirement already satisfied: statsmodels in /usr/local/lib/python3.11/dist-packages (from pingouin) (0.14.4)\n",
            "Requirement already satisfied: tabulate in /usr/local/lib/python3.11/dist-packages (from pingouin) (0.9.0)\n",
            "Requirement already satisfied: packaging>20.9 in /usr/local/lib/python3.11/dist-packages (from shap) (24.2)\n",
            "Requirement already satisfied: slicer==0.0.8 in /usr/local/lib/python3.11/dist-packages (from shap) (0.0.8)\n",
            "Requirement already satisfied: numba>=0.54 in /usr/local/lib/python3.11/dist-packages (from shap) (0.60.0)\n",
            "Requirement already satisfied: cloudpickle in /usr/local/lib/python3.11/dist-packages (from shap) (3.1.1)\n",
            "Requirement already satisfied: typing-extensions in /usr/local/lib/python3.11/dist-packages (from shap) (4.14.0)\n",
            "Requirement already satisfied: contourpy>=1.0.1 in /usr/local/lib/python3.11/dist-packages (from matplotlib) (1.3.2)\n",
            "Requirement already satisfied: cycler>=0.10 in /usr/local/lib/python3.11/dist-packages (from matplotlib) (0.12.1)\n",
            "Requirement already satisfied: fonttools>=4.22.0 in /usr/local/lib/python3.11/dist-packages (from matplotlib) (4.58.1)\n",
            "Requirement already satisfied: kiwisolver>=1.3.1 in /usr/local/lib/python3.11/dist-packages (from matplotlib) (1.4.8)\n",
            "Requirement already satisfied: pillow>=8 in /usr/local/lib/python3.11/dist-packages (from matplotlib) (11.2.1)\n",
            "Requirement already satisfied: pyparsing>=2.3.1 in /usr/local/lib/python3.11/dist-packages (from matplotlib) (3.2.3)\n",
            "Requirement already satisfied: mdurl~=0.1 in /usr/local/lib/python3.11/dist-packages (from markdown-it-py>=2.2.0->rich) (0.1.2)\n",
            "Requirement already satisfied: llvmlite<0.44,>=0.43.0dev0 in /usr/local/lib/python3.11/dist-packages (from numba>=0.54->shap) (0.43.0)\n",
            "Requirement already satisfied: six>=1.5 in /usr/local/lib/python3.11/dist-packages (from python-dateutil>=2.8.2->pandas) (1.17.0)\n",
            "Requirement already satisfied: xarray in /usr/local/lib/python3.11/dist-packages (from pandas-flavor->pingouin) (2025.3.1)\n",
            "Requirement already satisfied: patsy>=0.5.6 in /usr/local/lib/python3.11/dist-packages (from statsmodels->pingouin) (1.0.1)\n",
            "Downloading pingouin-0.5.5-py3-none-any.whl (204 kB)\n",
            "Downloading pandas_flavor-0.7.0-py3-none-any.whl (8.4 kB)\n",
            "Installing collected packages: pandas-flavor, pingouin\n",
            "\u001b[2K   \u001b[90m━━━━━━━━━━━━━━━━━━━━━━━━━━━━━━━━━━━━━━━━\u001b[0m \u001b[32m2/2\u001b[0m [pingouin]\n",
            "\u001b[1A\u001b[2KSuccessfully installed pandas-flavor-0.7.0 pingouin-0.5.5\n",
            "Torch version: 2.7.1+cu126\n",
            "Transformers version: 4.52.4\n",
            "PEFT version: 0.15.2\n",
            "Accelerate version: 1.7.0\n",
            "Safetensors version: 0.5.3\n",
            "Torch CUDA available: True\n",
            "CUDA version for PyTorch: 12.6\n",
            "----------------------------------------------------------------------\n",
            "Installation cell complete.\n",
            "IMPORTANT: Please go to 'Runtime' -> 'Restart session' NOW if prompted or if issues persist!\n",
            "----------------------------------------------------------------------\n"
          ]
        }
      ],
      "source": [
        "# CELL 1: Package Installations\n",
        "!pip install --upgrade pip -q\n",
        "!pip install --upgrade torch torchvision torchaudio -q\n",
        "!pip install --upgrade transformers accelerate peft bitsandbytes safetensors -q\n",
        "!pip install pandas pyarrow scikit-learn seaborn tqdm rich pingouin shap matplotlib\n",
        "\n",
        "# Confirm Versions\n",
        "import torch\n",
        "import transformers\n",
        "import accelerate\n",
        "import peft\n",
        "import safetensors\n",
        "\n",
        "print(f\"Torch version: {torch.__version__}\")\n",
        "print(f\"Transformers version: {transformers.__version__}\")\n",
        "print(f\"PEFT version: {peft.__version__}\")\n",
        "print(f\"Accelerate version: {accelerate.__version__}\")\n",
        "print(f\"Safetensors version: {safetensors.__version__}\")\n",
        "print(f\"Torch CUDA available: {torch.cuda.is_available()}\")\n",
        "if torch.cuda.is_available():\n",
        "    print(f\"CUDA version for PyTorch: {torch.version.cuda}\")\n",
        "\n",
        "print(\"-\" * 70)\n",
        "print(\"Installation cell complete.\")\n",
        "print(\"-\" * 70)"
      ]
    },
    {
      "cell_type": "code",
      "execution_count": 3,
      "metadata": {
        "colab": {
          "base_uri": "https://localhost:8080/"
        },
        "id": "1p0yLwyVuRHv",
        "outputId": "4acf50a3-ce79-49b2-edb1-a60c96de18b6"
      },
      "outputs": [
        {
          "name": "stdout",
          "output_type": "stream",
          "text": [
            "Mounted at /content/drive\n",
            "/content/drive/MyDrive/Master\n"
          ]
        }
      ],
      "source": [
        "# ╔════════════════════════════════════════════════════════════════════╗\n",
        "# ║  Mount Google Drive                                                ║\n",
        "# ╚════════════════════════════════════════════════════════════════════╝\n",
        "from google.colab import drive\n",
        "drive.mount('/content/drive')\n",
        "\n",
        "# Put the absolute path to your project root on Drive:\n",
        "PROJ = \"/content/drive/MyDrive/Master\"\n",
        "%cd $PROJ"
      ]
    },
    {
      "cell_type": "code",
      "execution_count": 4,
      "metadata": {
        "colab": {
          "base_uri": "https://localhost:8080/"
        },
        "id": "eC9ndf8CrRyH",
        "outputId": "26a56971-d517-4018-8a1b-b2490e8968ef"
      },
      "outputs": [
        {
          "name": "stdout",
          "output_type": "stream",
          "text": [
            "GPU: NVIDIA A100-SXM4-40GB\n",
            "torch: 2.6.0+cu124  transformers: 4.52.4\n",
            "rows in features file: 18110\n"
          ]
        }
      ],
      "source": [
        "# ╔════════════════════════════════════════════════════════════════════╗\n",
        "# ║  Environment sanity-check                                          ║\n",
        "# ╚════════════════════════════════════════════════════════════════════╝\n",
        "import torch, transformers, pandas as pd, os, platform, sys, json, math\n",
        "print(\"GPU:\", torch.cuda.get_device_name(0))\n",
        "print(\"torch:\", torch.__version__,  \" transformers:\", transformers.__version__)\n",
        "print(\"rows in features file:\", len(pd.read_feather(\"data/02_features.feather\")))"
      ]
    },
    {
      "cell_type": "code",
      "execution_count": null,
      "metadata": {
        "id": "jXzOe3EHEa8j"
      },
      "outputs": [],
      "source": [
        "!python rq1_emotion_analysis_5k.py"
      ]
    },
    {
      "cell_type": "code",
      "execution_count": null,
      "metadata": {
        "id": "k485NgpIHNhY"
      },
      "outputs": [],
      "source": [
        "!python rq1_emotion_analysis_10k.py"
      ]
    },
    {
      "cell_type": "code",
      "execution_count": null,
      "metadata": {
        "id": "zcnfZAGXHNwR"
      },
      "outputs": [],
      "source": [
        "!python rq1_emotion_analysis_40k.py"
      ]
    },
    {
      "cell_type": "code",
      "execution_count": null,
      "metadata": {
        "id": "bqwe6tjNHN9b"
      },
      "outputs": [],
      "source": [
        "!python rq1_emotion_analysis_80k.py"
      ]
    },
    {
      "cell_type": "code",
      "execution_count": null,
      "metadata": {
        "id": "Rj-fYtYWEJ_Z"
      },
      "outputs": [],
      "source": [
        "!python rq2_similarity_stats_5k.py"
      ]
    },
    {
      "cell_type": "code",
      "execution_count": null,
      "metadata": {
        "id": "fMI93DB1HR9m"
      },
      "outputs": [],
      "source": [
        "!python rq2_similarity_stats_10k.py"
      ]
    },
    {
      "cell_type": "code",
      "execution_count": null,
      "metadata": {
        "id": "pOjVWuJAHSSg"
      },
      "outputs": [],
      "source": [
        "!python rq2_similarity_stats_40k.py"
      ]
    },
    {
      "cell_type": "code",
      "execution_count": null,
      "metadata": {
        "id": "g7zyRo5JHSmq"
      },
      "outputs": [],
      "source": [
        "!python rq2_similarity_stats_80k.py"
      ]
    },
    {
      "cell_type": "code",
      "execution_count": null,
      "metadata": {
        "id": "Ovo_bV_Jq19I"
      },
      "outputs": [],
      "source": [
        "# only SVM-TFIDF + Random-Forest 5k\n",
        "!python rq3_classification_met.py --data \"/content/drive/MyDrive/Master/data/pysentimentio/revised-preprocess/5k/02_features.feather\" \\\n",
        "--model none --no-shap --run-name pysentimentio_5k_classic_only5k\n"
      ]
    },
    {
      "cell_type": "code",
      "execution_count": null,
      "metadata": {
        "id": "W9guLWhnwPMD"
      },
      "outputs": [],
      "source": [
        "## DistilBERT 5k\n",
        "!python rq3_classification_met.py \\\n",
        "  --data \"/content/drive/MyDrive/Master/data/pysentimentio/revised-preprocess/5k/02_features.feather\" \\\n",
        "  --model distilbert-base-uncased \\\n",
        "  --epochs 12 --batch 64  --grad-accum 1 \\\n",
        "  --no-baselines \\\n",
        "  --run-name 5k_e12_b64_distil"
      ]
    },
    {
      "cell_type": "code",
      "execution_count": null,
      "metadata": {
        "id": "qkTJ_FjFwoUd"
      },
      "outputs": [],
      "source": [
        "## DeBERTa-v3-base 5k\n",
        "!python rq3_classification_met.py \\\n",
        "  --data \"/content/drive/MyDrive/Master/data/pysentimentio/revised-preprocess/5k/02_features.feather\" \\\n",
        "  --model microsoft/deberta-v3-base \\\n",
        "  --epochs 10 --batch 16 --grad-accum 2 \\\n",
        "  --no-baselines \\\n",
        "  --run-name 5k_e10_b16_ga2_deberta"
      ]
    },
    {
      "cell_type": "code",
      "execution_count": null,
      "metadata": {
        "id": "LtUd7i2vsdQi"
      },
      "outputs": [],
      "source": [
        "# only SVM-TFIDF + Random-Forest 10k\n",
        "!python rq3_classification_met.py --data \"/content/drive/MyDrive/Master/data/pysentimentio/revised-preprocess/10k/02_features.feather\" \\\n",
        "--model none --no-shap --run-name pysentimentio_10k_classic_only10k\n"
      ]
    },
    {
      "cell_type": "code",
      "execution_count": null,
      "metadata": {
        "id": "o9TEZh7Z0FWJ"
      },
      "outputs": [],
      "source": [
        "## DistilBERT 10k\n",
        "!python rq3_classification_met.py \\\n",
        "  --data \"/content/drive/MyDrive/Master/data/pysentimentio/revised-preprocess/10k/02_features.feather\" \\\n",
        "  --model distilbert-base-uncased \\\n",
        "  --epochs 6 --batch 64  --grad-accum 1 \\\n",
        "  --no-baselines \\\n",
        "  --run-name 10k_e6_b64_distil"
      ]
    },
    {
      "cell_type": "code",
      "execution_count": null,
      "metadata": {
        "id": "MKlPIbTM0N_0"
      },
      "outputs": [],
      "source": [
        "# DeBERTa-v3-base 10k\n",
        "!python rq3_classification_met.py \\\n",
        "  --data \"/content/drive/MyDrive/Master/data/pysentimentio/revised-preprocess/10k/02_features.feather\" \\\n",
        "  --model microsoft/deberta-v3-base \\\n",
        "  --epochs 8 --batch 16 --grad-accum 2 \\\n",
        "  --no-baselines \\\n",
        "  --run-name 10k_e8_b16_ga2_deberta"
      ]
    },
    {
      "cell_type": "code",
      "execution_count": null,
      "metadata": {
        "id": "RECO7MSaz63Z"
      },
      "outputs": [],
      "source": [
        "# only SVM-TFIDF + Random-Forest 40k\n",
        "!python rq3_classification.py --data \"/content/drive/MyDrive/Master/data/pysentimentio/revised-preprocess/40k/02_features.feather\" \\\n",
        "--model none --no-shap --run-name pysentimentio_40k_classic_only40k\n"
      ]
    },
    {
      "cell_type": "code",
      "execution_count": null,
      "metadata": {
        "id": "sw0qmUsc0FnL"
      },
      "outputs": [],
      "source": [
        "# DistilBERT 40k\n",
        "!python rq3_classification.py \\\n",
        "  --data \"/content/drive/MyDrive/Master/data/pysentimentio/revised-preprocess/40k/02_features.feather\" \\\n",
        "  --model distilbert-base-uncased \\\n",
        "  --epochs 8 --batch 64  --grad-accum 1 \\\n",
        "  --no-baselines \\\n",
        "  --run-name 40k_e8_b64_distil"
      ]
    },
    {
      "cell_type": "code",
      "execution_count": null,
      "metadata": {
        "id": "pfoMIuic0ONp"
      },
      "outputs": [],
      "source": [
        "# DeBERTa-v3-base 40k\n",
        "!python rq3_classification.py \\\n",
        "  --data \"/content/drive/MyDrive/Master/data/pysentimentio/revised-preprocess/40k/02_features.feather\" \\\n",
        "  --model microsoft/deberta-v3-base \\\n",
        "  --epochs 8 --batch 16 --grad-accum 2 \\\n",
        "  --no-baselines \\\n",
        "  --run-name 40k_e8_b16_ga2_deberta"
      ]
    },
    {
      "cell_type": "code",
      "execution_count": null,
      "metadata": {
        "id": "ls06y20O0GCo"
      },
      "outputs": [],
      "source": [
        "# DistilBERT 80k\n",
        "!python rq3_classification.py \\\n",
        "  --data \"/content/drive/MyDrive/Master/data/pysentimentio/revised-preprocess/80k/02_features.feather\" \\\n",
        "  --model distilbert-base-uncased \\\n",
        "  --epochs 8 --batch 64  --grad-accum 1 \\\n",
        "  --no-baselines \\\n",
        "  --run-name 80k_e8_b64_distil"
      ]
    },
    {
      "cell_type": "code",
      "execution_count": null,
      "metadata": {
        "id": "kieaWf4x0O1u"
      },
      "outputs": [],
      "source": [
        "# DeBERTa-v3-base 80k\n",
        "!python rq3_classification.py \\\n",
        "  --data \"/content/drive/MyDrive/Master/data/pysentimentio/revised-preprocess/80k/02_features.feather\" \\\n",
        "  --model microsoft/deberta-v3-base \\\n",
        "  --epochs 8 --batch 32 --grad-accum 2 \\\n",
        "  --no-baselines \\\n",
        "  --run-name 80k_e8_b16_ga2_deberta"
      ]
    },
    {
      "cell_type": "code",
      "execution_count": null,
      "metadata": {
        "id": "UU3SiU2az7qi"
      },
      "outputs": [],
      "source": [
        "# only SVM-TFIDF + Random-Forest 80k\n",
        "!python rq3_classification.py --data \"/content/drive/MyDrive/Master/data/pysentimentio/revised-preprocess/80k/02_features.feather\" \\\n",
        "--model none --no-shap --run-name pysentimentio_80k_classic_only80k"
      ]
    }
  ],
  "metadata": {
    "accelerator": "GPU",
    "colab": {
      "gpuType": "A100",
      "machine_shape": "hm",
      "provenance": []
    },
    "kernelspec": {
      "display_name": "Python 3",
      "name": "python3"
    }
  },
  "nbformat": 4,
  "nbformat_minor": 0
}
